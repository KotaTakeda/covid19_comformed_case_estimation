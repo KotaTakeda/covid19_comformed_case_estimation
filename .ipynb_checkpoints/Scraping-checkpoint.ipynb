{
 "cells": [
  {
   "cell_type": "markdown",
   "metadata": {},
   "source": [
    "# Scraping Sample\n",
    "[参考](http://ken-hayashi.com/%E3%80%90python%E5%85%A5%E9%96%80%E3%80%91%E3%82%B9%E3%82%AF%E3%83%AC%E3%82%A4%E3%83%94%E3%83%B3%E3%82%B0%E3%81%A7%E8%A4%87%E6%95%B0%E3%81%AEpdf%E3%83%87%E3%83%BC%E3%82%BF%E3%82%92%E3%83%80%E3%82%A6)\n",
    "## technique\n",
    "- BeautifulSoupを使ってscraping\n",
    "- urllibでデータアクセス\n",
    "- tabulaでpdfから表取得\n",
    "\n",
    "## 目標\n",
    "- WHOのCoronavirus disease (COVID-2019) situation reportsのページからsituation_reportsを全てダウンロードし, \n",
    "- データをpdDataFrameにまとめる\n",
    "- csvで保存\n"
   ]
  },
  {
   "cell_type": "code",
   "execution_count": null,
   "metadata": {},
   "outputs": [],
   "source": [
    "# TODO: module化"
   ]
  },
  {
   "cell_type": "code",
   "execution_count": 152,
   "metadata": {},
   "outputs": [],
   "source": [
    "# %pip install BeautifulSoup4\n",
    "# %pip install tabula-py\n",
    "\n",
    "# サイトにアクセス\n",
    "from bs4 import BeautifulSoup\n",
    "# pdfダウンロード\n",
    "import urllib.request as req\n",
    "import urllib\n",
    "# pdf から表取得 -> csv\n",
    "import tabula\n",
    "# csv 整形\n",
    "import csv\n",
    "import pandas as pd\n",
    "import numpy as np"
   ]
  },
  {
   "cell_type": "code",
   "execution_count": 121,
   "metadata": {},
   "outputs": [],
   "source": [
    "who_sitrep_url = 'https://www.who.int/emergencies/diseases/novel-coronavirus-2019/situation-reports'\n",
    "\n",
    "# requestを送る\n",
    "res = req.urlopen(who_sitrep_url)\n",
    "\n",
    "soup = BeautifulSoup(res, \"html.parser\")\n",
    "result = soup.select(\"a[href]\")"
   ]
  },
  {
   "cell_type": "code",
   "execution_count": 122,
   "metadata": {},
   "outputs": [],
   "source": [
    "# urlを取り出す\n",
    "urls = [link.get('href') for link in result ]"
   ]
  },
  {
   "cell_type": "code",
   "execution_count": 123,
   "metadata": {},
   "outputs": [],
   "source": [
    "# hrefが相対パスになっているので絶対パスに変更する\n",
    "from urllib.parse import urljoin\n",
    "\n",
    "base = 'https://www.who.int/'\n",
    "full_urls = []\n",
    "\n",
    "for url in urls:\n",
    "    url_1 = urljoin(base, url)\n",
    "    full_urls.append(url_1)"
   ]
  },
  {
   "cell_type": "code",
   "execution_count": 124,
   "metadata": {},
   "outputs": [],
   "source": [
    "# 　pdfに限定し?以降のクエリを除去\n",
    "url_for_pdfs = [url.split('?')[0] for url in full_urls if 'pdf' in url]"
   ]
  },
  {
   "cell_type": "code",
   "execution_count": null,
   "metadata": {},
   "outputs": [],
   "source": [
    "# マスターのtable作成\n",
    "# todo:\n",
    "# 'Total conformed cases'\n",
    "total_comf = pd.Data\n",
    "# 'Total conformed new cases'\n",
    "# 'Total deaths'\n",
    "# 'Total new deaths'\n",
    "# 'Days since last reported case'"
   ]
  },
  {
   "cell_type": "code",
   "execution_count": 74,
   "metadata": {},
   "outputs": [],
   "source": [
    "# 1.pdfをダウンロード\n",
    "REPOERT_COLUMNS = ['Reporting Country/ Territory/Area', \n",
    "           'Total conformed cases',\n",
    "           'Total conformed new cases',\n",
    "           'Total deaths',\n",
    "           'Total new deaths',\n",
    "           'Transmission classification',\n",
    "           'Days since last reported case']\n",
    "\n",
    "def download_pdf(url):\n",
    "    path_for_save = 'who_situation_reports/pdf/' + url.split('/')[-1]\n",
    "    urllib.request.urlretrieve(url, path_for_save)\n",
    "    return path_for_save\n",
    "    \n",
    "def pdf_into_csv(path_for_save_pdf):\n",
    "    path_for_save_csv = file_path.replace('pdf','csv')\n",
    "    tabula.convert_into(file_path, path_for_save_csv, output_format=\"csv\", pages='all')\n",
    "    return path_for_save_csv\n",
    "\n",
    "def cleaning_csv(path_for_save_csv):\n",
    "#     todo:\n",
    "\n",
    "def write_to_master_csv(df):\n",
    "#     todo:\n",
    "\n",
    "# 実行\n",
    "for i in range(5): # tod\n",
    "    url = url_for_pdfs[i]\n",
    "    \n",
    "    # pdfダウンロード\n",
    "    path_for_save_pdf = download_pdf(url)\n",
    "    \n",
    "    # pdf -> csv\n",
    "    path_for_save_csv = pdf_into_csv(path_for_save_pdf)\n",
    "    \n",
    "    #  csv整形 todo: 関数化\n",
    "    with open(path_for_save_csv) as f:\n",
    "        rows = [row for row in csv.reader(f)]\n",
    "    \n",
    "    df = pd.DataFrame(rows)\n",
    "    cleaned_df = df.drop(index = range(40), columns = range(7,18)) # 40と7については検討\n",
    "    \n",
    "    # index, column 設定\n",
    "    cleaned_df.columns = REPOERT_COLUMNS\n",
    "    cleaned_df = cleaned_df.set_index(REPOERT_COLUMNS[0])\n",
    "    \n",
    "    # 各日のcsvを保存\n",
    "    cleaned_df.to_csv(path_for_save_csv)\n",
    "    \n",
    "    # マスターに書き込み todo\n",
    "#     write_to_master_csv(cleaned_df)\n"
   ]
  },
  {
   "cell_type": "code",
   "execution_count": 260,
   "metadata": {},
   "outputs": [
    {
     "data": {
      "text/plain": [
       "<BarContainer object of 20 artists>"
      ]
     },
     "execution_count": 260,
     "metadata": {},
     "output_type": "execute_result"
    },
    {
     "data": {
      "image/png": "[encoded data removed]",
      "text/plain": [
       "<Figure size 432x288 with 1 Axes>"
      ]
     },
     "metadata": {
      "needs_background": "light"
     },
     "output_type": "display_data"
    }
   ],
   "source": [
    "# ten_df = cleaned_df[:20]\n",
    "# x  = ten_df.index\n",
    "# y = ten_df[ 'Total conformed cases']\n",
    "\n",
    "# %matplotlib inline\n",
    "# import matplotlib.pyplot as plt\n",
    "\n",
    "# fig, ax = plt.subplots()\n",
    "# ax.barh(x,y)"
   ]
  },
  {
   "cell_type": "code",
   "execution_count": 94,
   "metadata": {},
   "outputs": [],
   "source": [
    "# pdfからテキスト抽出\n",
    "# 未完成\n",
    "\n",
    "# url = url_for_pdfs[4]\n",
    "# file_path = 'who_situation_reports/' + url.split('/')[-1]\n",
    "# df = tabula.read_pdf(file_path, pages='all') # -> 不正確"
   ]
  }
 ],
 "metadata": {
  "kernelspec": {
   "display_name": "Python 3",
   "language": "python",
   "name": "python3"
  },
  "language_info": {
   "codemirror_mode": {
    "name": "ipython",
    "version": 3
   },
   "file_extension": ".py",
   "mimetype": "text/x-python",
   "name": "python",
   "nbconvert_exporter": "python",
   "pygments_lexer": "ipython3",
   "version": "3.7.4"
  }
 },
 "nbformat": 4,
 "nbformat_minor": 2
}
